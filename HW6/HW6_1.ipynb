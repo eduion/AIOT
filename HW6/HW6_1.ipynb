{
  "nbformat": 4,
  "nbformat_minor": 0,
  "metadata": {
    "colab": {
      "provenance": [],
      "gpuType": "T4",
      "authorship_tag": "ABX9TyOWCgWxKwfpL3LxZLgexdmN",
      "include_colab_link": true
    },
    "kernelspec": {
      "name": "python3",
      "display_name": "Python 3"
    },
    "language_info": {
      "name": "python"
    },
    "accelerator": "GPU"
  },
  "cells": [
    {
      "cell_type": "markdown",
      "metadata": {
        "id": "view-in-github",
        "colab_type": "text"
      },
      "source": [
        "<a href=\"https://colab.research.google.com/github/eduion/AIOT/blob/main/HW6/HW6_1.ipynb\" target=\"_parent\"><img src=\"https://colab.research.google.com/assets/colab-badge.svg\" alt=\"Open In Colab\"/></a>"
      ]
    },
    {
      "cell_type": "code",
      "execution_count": 1,
      "metadata": {
        "colab": {
          "base_uri": "https://localhost:8080/"
        },
        "id": "SXXSZUxhYaZg",
        "outputId": "a5532b3d-6455-45e1-a525-e332095cd1c6"
      },
      "outputs": [
        {
          "output_type": "stream",
          "name": "stdout",
          "text": [
            "Mounted at /content/drive\n"
          ]
        }
      ],
      "source": [
        "from google.colab import drive\n",
        "drive.mount('/content/drive')"
      ]
    },
    {
      "cell_type": "code",
      "source": [
        "!git clone https://github.com/chandrikadeb7/Face-Mask-Detection.git"
      ],
      "metadata": {
        "colab": {
          "base_uri": "https://localhost:8080/"
        },
        "id": "W4hz5WL6Ywdq",
        "outputId": "2843db5b-bb54-4a33-9c0f-4ffe882bea4a"
      },
      "execution_count": 2,
      "outputs": [
        {
          "output_type": "stream",
          "name": "stdout",
          "text": [
            "Cloning into 'Face-Mask-Detection'...\n",
            "remote: Enumerating objects: 4590, done.\u001b[K\n",
            "remote: Total 4590 (delta 0), reused 0 (delta 0), pack-reused 4590 (from 1)\u001b[K\n",
            "Receiving objects: 100% (4590/4590), 186.72 MiB | 16.35 MiB/s, done.\n",
            "Resolving deltas: 100% (271/271), done.\n",
            "Updating files: 100% (4155/4155), done.\n"
          ]
        }
      ]
    },
    {
      "cell_type": "code",
      "source": [
        "import tensorflow as tf\n",
        "from tensorflow.keras.applications import VGG16\n",
        "from tensorflow.keras.layers import Dense, Flatten\n",
        "from tensorflow.keras.models import Model\n",
        "from tensorflow.keras.preprocessing.image import ImageDataGenerator"
      ],
      "metadata": {
        "id": "NfApoEHmZEUe"
      },
      "execution_count": 4,
      "outputs": []
    },
    {
      "cell_type": "code",
      "source": [
        "# Prepare the data\n",
        "def prepare_data():\n",
        "    train_datagen = ImageDataGenerator(\n",
        "        rescale=1.0/255,\n",
        "        rotation_range=20,\n",
        "        width_shift_range=0.2,\n",
        "        height_shift_range=0.2,\n",
        "        shear_range=0.2,\n",
        "        zoom_range=0.2,\n",
        "        horizontal_flip=True,\n",
        "        validation_split=0.2  # Split training and validation sets\n",
        "    )\n",
        "\n",
        "    train_generator = train_datagen.flow_from_directory(\n",
        "        'Face-Mask-Detection/dataset',  # Path to the dataset\n",
        "        target_size=(224, 224),\n",
        "        batch_size=32,\n",
        "        class_mode='categorical',\n",
        "        subset='training'\n",
        "    )\n",
        "\n",
        "    val_generator = train_datagen.flow_from_directory(\n",
        "        'Face-Mask-Detection/dataset',\n",
        "        target_size=(224, 224),\n",
        "        batch_size=32,\n",
        "        class_mode='categorical',\n",
        "        subset='validation'\n",
        "    )\n",
        "\n",
        "    return train_generator, val_generator\n",
        "\n",
        "train_gen, val_gen = prepare_data()"
      ],
      "metadata": {
        "colab": {
          "base_uri": "https://localhost:8080/"
        },
        "id": "SDGHwNQlZIvo",
        "outputId": "51cfff88-18fa-4c1c-8628-bad22e95b4ea"
      },
      "execution_count": 5,
      "outputs": [
        {
          "output_type": "stream",
          "name": "stdout",
          "text": [
            "Found 3274 images belonging to 2 classes.\n",
            "Found 818 images belonging to 2 classes.\n"
          ]
        }
      ]
    },
    {
      "cell_type": "code",
      "source": [
        "def build_vgg16_model():\n",
        "    vgg16_base = VGG16(weights='imagenet', include_top=False, input_shape=(224, 224, 3))\n",
        "    vgg16_base.trainable = False  # Freeze convolutional base\n",
        "\n",
        "    x = Flatten()(vgg16_base.output)\n",
        "    x = Dense(256, activation='relu')(x)\n",
        "    x = Dense(2, activation='softmax')(x)\n",
        "\n",
        "    model = Model(inputs=vgg16_base.input, outputs=x)\n",
        "    model.compile(optimizer='adam', loss='categorical_crossentropy', metrics=['accuracy'])\n",
        "    return model\n",
        "\n",
        "model = build_vgg16_model()\n",
        "\n",
        "# Train the model\n",
        "model.fit(\n",
        "    train_gen,\n",
        "    validation_data=val_gen,\n",
        "    epochs=3\n",
        ")\n",
        "\n",
        "# Save the model\n",
        "model.save('/content/drive/My Drive/medical_mask_model.h5')"
      ],
      "metadata": {
        "colab": {
          "base_uri": "https://localhost:8080/"
        },
        "id": "UL_R7rpfZUu2",
        "outputId": "292d64bd-f961-4069-82dd-21b1b7fb7989"
      },
      "execution_count": 6,
      "outputs": [
        {
          "output_type": "stream",
          "name": "stdout",
          "text": [
            "Downloading data from https://storage.googleapis.com/tensorflow/keras-applications/vgg16/vgg16_weights_tf_dim_ordering_tf_kernels_notop.h5\n",
            "\u001b[1m58889256/58889256\u001b[0m \u001b[32m━━━━━━━━━━━━━━━━━━━━\u001b[0m\u001b[37m\u001b[0m \u001b[1m4s\u001b[0m 0us/step\n",
            "Epoch 1/3\n"
          ]
        },
        {
          "output_type": "stream",
          "name": "stderr",
          "text": [
            "/usr/local/lib/python3.10/dist-packages/keras/src/trainers/data_adapters/py_dataset_adapter.py:122: UserWarning: Your `PyDataset` class should call `super().__init__(**kwargs)` in its constructor. `**kwargs` can include `workers`, `use_multiprocessing`, `max_queue_size`. Do not pass these arguments to `fit()`, as they will be ignored.\n",
            "  self._warn_if_super_not_called()\n"
          ]
        },
        {
          "output_type": "stream",
          "name": "stdout",
          "text": [
            "\u001b[1m 57/103\u001b[0m \u001b[32m━━━━━━━━━━━\u001b[0m\u001b[37m━━━━━━━━━\u001b[0m \u001b[1m26s\u001b[0m 576ms/step - accuracy: 0.5698 - loss: 2.6731"
          ]
        },
        {
          "output_type": "stream",
          "name": "stderr",
          "text": [
            "/usr/local/lib/python3.10/dist-packages/PIL/Image.py:1054: UserWarning: Palette images with Transparency expressed in bytes should be converted to RGBA images\n",
            "  warnings.warn(\n"
          ]
        },
        {
          "output_type": "stream",
          "name": "stdout",
          "text": [
            "\u001b[1m103/103\u001b[0m \u001b[32m━━━━━━━━━━━━━━━━━━━━\u001b[0m\u001b[37m\u001b[0m \u001b[1m114s\u001b[0m 914ms/step - accuracy: 0.6616 - loss: 1.8681 - val_accuracy: 0.9645 - val_loss: 0.1685\n",
            "Epoch 2/3\n",
            "\u001b[1m103/103\u001b[0m \u001b[32m━━━━━━━━━━━━━━━━━━━━\u001b[0m\u001b[37m\u001b[0m \u001b[1m60s\u001b[0m 554ms/step - accuracy: 0.9444 - loss: 0.1682 - val_accuracy: 0.9658 - val_loss: 0.1224\n",
            "Epoch 3/3\n",
            "\u001b[1m103/103\u001b[0m \u001b[32m━━━━━━━━━━━━━━━━━━━━\u001b[0m\u001b[37m\u001b[0m \u001b[1m91s\u001b[0m 642ms/step - accuracy: 0.9559 - loss: 0.1190 - val_accuracy: 0.9450 - val_loss: 0.1449\n"
          ]
        },
        {
          "output_type": "stream",
          "name": "stderr",
          "text": [
            "WARNING:absl:You are saving your model as an HDF5 file via `model.save()` or `keras.saving.save_model(model)`. This file format is considered legacy. We recommend using instead the native Keras format, e.g. `model.save('my_model.keras')` or `keras.saving.save_model(model, 'my_model.keras')`. \n"
          ]
        }
      ]
    },
    {
      "cell_type": "code",
      "source": [
        "import requests\n",
        "from PIL import Image\n",
        "import numpy as np\n",
        "from io import BytesIO\n",
        "\n",
        "# 測試單張圖片的分類\n",
        "def test_image(image_url, model, class_labels):\n",
        "    \"\"\"\n",
        "    使用模型辨識從 URL 獲取的圖片。\n",
        "    :param image_url: 圖片的網路地址\n",
        "    :param model: 訓練好的 Keras 模型\n",
        "    :param class_labels: 分類標籤列表（如 [\"With Mask\", \"Without Mask\"]）\n",
        "    \"\"\"\n",
        "    try:\n",
        "        # 從 URL 獲取圖片\n",
        "        image_url = image_url.strip()\n",
        "        response = requests.get(image_url)\n",
        "        if response.status_code != 200:\n",
        "            raise Exception(\"無法下載圖片，請檢查 URL 是否正確\")\n",
        "\n",
        "        # 讀取並處理圖片\n",
        "        img = Image.open(BytesIO(response.content)).convert('RGB')\n",
        "        img = img.resize((224, 224))  # 調整圖片尺寸\n",
        "        img_array = np.array(img) / 255.0  # 歸一化像素值到 [0, 1]\n",
        "        img_array = np.expand_dims(img_array, axis=0)  # 增加批次維度 (1, 224, 224, 3)\n",
        "\n",
        "        # 使用模型進行預測\n",
        "        predictions = model.predict(img_array)\n",
        "        predicted_class = np.argmax(predictions)  # 找到概率最大的類別\n",
        "        confidence = predictions[0][predicted_class]  # 該類別的信心度\n",
        "\n",
        "        # 輸出預測結果\n",
        "        print(f\"Predicted Class: {class_labels[predicted_class]} with confidence {confidence:.2f}\")\n",
        "    except Exception as e:\n",
        "        print(f\"錯誤: {e}\")\n",
        "\n",
        "# 測試模型\n",
        "image_url = str(\"https://na.cx/i/eqzQJYw.jpg\")\n",
        "test_image(image_url, model, ['With Mask', 'Without Mask'])"
      ],
      "metadata": {
        "id": "GrmjEB_oH5ci",
        "colab": {
          "base_uri": "https://localhost:8080/"
        },
        "outputId": "3a829acd-f73f-438a-ba4e-da30621dc0c3"
      },
      "execution_count": 11,
      "outputs": [
        {
          "output_type": "stream",
          "name": "stdout",
          "text": [
            "\u001b[1m1/1\u001b[0m \u001b[32m━━━━━━━━━━━━━━━━━━━━\u001b[0m\u001b[37m\u001b[0m \u001b[1m2s\u001b[0m 2s/step\n",
            "Predicted Class: With Mask with confidence 0.99\n"
          ]
        }
      ]
    }
  ]
}